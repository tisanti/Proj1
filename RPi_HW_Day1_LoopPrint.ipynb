{
  "nbformat": 4,
  "nbformat_minor": 0,
  "metadata": {
    "colab": {
      "name": "Copy of Untitled1.ipynb",
      "provenance": [],
      "collapsed_sections": [],
      "authorship_tag": "ABX9TyP5/WeB87GHVUvr7oPWU+ZZ",
      "include_colab_link": true
    },
    "kernelspec": {
      "name": "python3",
      "display_name": "Python 3"
    },
    "language_info": {
      "name": "python"
    }
  },
  "cells": [
    {
      "cell_type": "markdown",
      "metadata": {
        "id": "view-in-github",
        "colab_type": "text"
      },
      "source": [
        "<a href=\"https://colab.research.google.com/github/tisanti/Proj1/blob/master/RPi_HW_Day1_LoopPrint.ipynb\" target=\"_parent\"><img src=\"https://colab.research.google.com/assets/colab-badge.svg\" alt=\"Open In Colab\"/></a>"
      ]
    },
    {
      "cell_type": "code",
      "execution_count": null,
      "metadata": {
        "id": "3fvhsvlKetRn",
        "colab": {
          "base_uri": "https://localhost:8080/"
        },
        "outputId": "eba27211-107a-4b25-9bac-5913391b4203"
      },
      "outputs": [
        {
          "output_type": "stream",
          "name": "stdout",
          "text": [
            "1 Raspberry Pi\n",
            "2 Raspberry Pi\n",
            "3 Raspberry Pi\n",
            "4 Raspberry Pi\n",
            "5 Raspberry Pi\n"
          ]
        }
      ],
      "source": [
        "#----Home work day 1 ------------#\n",
        "def LoopPrint(wording,cycle):\n",
        "  for i in range(1,cycle+1):\n",
        "    print(i,wording)\n",
        "#--------------------------------#\n",
        "LoopPrint(\"Raspberry Pi\",5)\n"
      ]
    }
  ]
}